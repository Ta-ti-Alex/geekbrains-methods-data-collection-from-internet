{
 "cells": [
  {
   "cell_type": "code",
   "execution_count": 1,
   "metadata": {},
   "outputs": [
    {
     "name": "stdout",
     "output_type": "stream",
     "text": [
      "Requirement already satisfied: requests in c:\\programdata\\anaconda3\\lib\\site-packages (2.24.0)\n",
      "Requirement already satisfied: chardet<4,>=3.0.2 in c:\\programdata\\anaconda3\\lib\\site-packages (from requests) (3.0.4)\n",
      "Requirement already satisfied: idna<3,>=2.5 in c:\\programdata\\anaconda3\\lib\\site-packages (from requests) (2.10)\n",
      "Requirement already satisfied: certifi>=2017.4.17 in c:\\programdata\\anaconda3\\lib\\site-packages (from requests) (2020.6.20)\n",
      "Note: you may need to restart the kernel to use updated packages.Requirement already satisfied: urllib3!=1.25.0,!=1.25.1,<1.26,>=1.21.1 in c:\\programdata\\anaconda3\\lib\\site-packages (from requests) (1.25.11)\n",
      "\n"
     ]
    }
   ],
   "source": [
    "pip install requests\n"
   ]
  },
  {
   "cell_type": "code",
   "execution_count": 3,
   "metadata": {},
   "outputs": [],
   "source": [
    "import requests\n",
    "import time\n",
    "import json"
   ]
  },
  {
   "cell_type": "code",
   "execution_count": 4,
   "metadata": {},
   "outputs": [],
   "source": [
    "def get_data(url: str) -> dict:\n",
    "    while True:\n",
    "        time.sleep(1)\n",
    "        response = requests.get(url)\n",
    "        if response.status_code == 200:\n",
    "            break\n",
    "    return response.json()"
   ]
  },
  {
   "cell_type": "code",
   "execution_count": 5,
   "metadata": {},
   "outputs": [
    {
     "name": "stdout",
     "output_type": "stream",
     "text": [
      "Введите username: \n"
     ]
    }
   ],
   "source": [
    "username = input('Введите username: ')\n",
    "username = 'Ta-ti-Alex' if username == '' else username\n",
    "url = 'https://api.github.com/users/'+username+'/repos'"
   ]
  },
  {
   "cell_type": "code",
   "execution_count": 6,
   "metadata": {},
   "outputs": [
    {
     "data": {
      "text/plain": [
       "'Ta-ti-Alex'"
      ]
     },
     "execution_count": 6,
     "metadata": {},
     "output_type": "execute_result"
    }
   ],
   "source": [
    "username\n"
   ]
  },
  {
   "cell_type": "code",
   "execution_count": 7,
   "metadata": {},
   "outputs": [
    {
     "data": {
      "text/plain": [
       "'https://api.github.com/users/Ta-ti-Alex/repos'"
      ]
     },
     "execution_count": 7,
     "metadata": {},
     "output_type": "execute_result"
    }
   ],
   "source": [
    "url"
   ]
  },
  {
   "cell_type": "code",
   "execution_count": 8,
   "metadata": {},
   "outputs": [
    {
     "name": "stdout",
     "output_type": "stream",
     "text": [
      "Получен результат\n",
      "[{'id': 588053426, 'node_id': 'R_kgDOIwz7sg', 'name': '-Python-Data-Science', 'full_name': 'Ta-ti-Alex/-Python-Data-Science', 'private': False, 'owner': {'login': 'Ta-ti-Alex', 'id': 122518141, 'node_id': 'U_kgDOB016fQ', 'avatar_url': 'https://avatars.githubusercontent.com/u/122518141?v=4', 'gravatar_id': '', 'url': 'https://api.github.com/users/Ta-ti-Alex', 'html_url': 'https://github.com/Ta-ti-Alex', 'followers_url': 'https://api.github.com/users/Ta-ti-Alex/followers', 'following_url': 'https://api.github.com/users/Ta-ti-Alex/following{/other_user}', 'gists_url': 'https://api.github.com/users/Ta-ti-Alex/gists{/gist_id}', 'starred_url': 'https://api.github.com/users/Ta-ti-Alex/starred{/owner}{/repo}', 'subscriptions_url': 'https://api.github.com/users/Ta-ti-Alex/subscriptions', 'organizations_url': 'https://api.github.com/users/Ta-ti-Alex/orgs', 'repos_url': 'https://api.github.com/users/Ta-ti-Alex/repos', 'events_url': 'https://api.github.com/users/Ta-ti-Alex/events{/privacy}', 'received_events_url': 'https://api.github.com/users/Ta-ti-Alex/received_events', 'type': 'User', 'site_admin': False}, 'html_url': 'https://github.com/Ta-ti-Alex/-Python-Data-Science', 'description': 'for homeworks', 'fork': False, 'url': 'https://api.github.com/repos/Ta-ti-Alex/-Python-Data-Science', 'forks_url': 'https://api.github.com/repos/Ta-ti-Alex/-Python-Data-Science/forks', 'keys_url': 'https://api.github.com/repos/Ta-ti-Alex/-Python-Data-Science/keys{/key_id}', 'collaborators_url': 'https://api.github.com/repos/Ta-ti-Alex/-Python-Data-Science/collaborators{/collaborator}', 'teams_url': 'https://api.github.com/repos/Ta-ti-Alex/-Python-Data-Science/teams', 'hooks_url': 'https://api.github.com/repos/Ta-ti-Alex/-Python-Data-Science/hooks', 'issue_events_url': 'https://api.github.com/repos/Ta-ti-Alex/-Python-Data-Science/issues/events{/number}', 'events_url': 'https://api.github.com/repos/Ta-ti-Alex/-Python-Data-Science/events', 'assignees_url': 'https://api.github.com/repos/Ta-ti-Alex/-Python-Data-Science/assignees{/user}', 'branches_url': 'https://api.github.com/repos/Ta-ti-Alex/-Python-Data-Science/branches{/branch}', 'tags_url': 'https://api.github.com/repos/Ta-ti-Alex/-Python-Data-Science/tags', 'blobs_url': 'https://api.github.com/repos/Ta-ti-Alex/-Python-Data-Science/git/blobs{/sha}', 'git_tags_url': 'https://api.github.com/repos/Ta-ti-Alex/-Python-Data-Science/git/tags{/sha}', 'git_refs_url': 'https://api.github.com/repos/Ta-ti-Alex/-Python-Data-Science/git/refs{/sha}', 'trees_url': 'https://api.github.com/repos/Ta-ti-Alex/-Python-Data-Science/git/trees{/sha}', 'statuses_url': 'https://api.github.com/repos/Ta-ti-Alex/-Python-Data-Science/statuses/{sha}', 'languages_url': 'https://api.github.com/repos/Ta-ti-Alex/-Python-Data-Science/languages', 'stargazers_url': 'https://api.github.com/repos/Ta-ti-Alex/-Python-Data-Science/stargazers', 'contributors_url': 'https://api.github.com/repos/Ta-ti-Alex/-Python-Data-Science/contributors', 'subscribers_url': 'https://api.github.com/repos/Ta-ti-Alex/-Python-Data-Science/subscribers', 'subscription_url': 'https://api.github.com/repos/Ta-ti-Alex/-Python-Data-Science/subscription', 'commits_url': 'https://api.github.com/repos/Ta-ti-Alex/-Python-Data-Science/commits{/sha}', 'git_commits_url': 'https://api.github.com/repos/Ta-ti-Alex/-Python-Data-Science/git/commits{/sha}', 'comments_url': 'https://api.github.com/repos/Ta-ti-Alex/-Python-Data-Science/comments{/number}', 'issue_comment_url': 'https://api.github.com/repos/Ta-ti-Alex/-Python-Data-Science/issues/comments{/number}', 'contents_url': 'https://api.github.com/repos/Ta-ti-Alex/-Python-Data-Science/contents/{+path}', 'compare_url': 'https://api.github.com/repos/Ta-ti-Alex/-Python-Data-Science/compare/{base}...{head}', 'merges_url': 'https://api.github.com/repos/Ta-ti-Alex/-Python-Data-Science/merges', 'archive_url': 'https://api.github.com/repos/Ta-ti-Alex/-Python-Data-Science/{archive_format}{/ref}', 'downloads_url': 'https://api.github.com/repos/Ta-ti-Alex/-Python-Data-Science/downloads', 'issues_url': 'https://api.github.com/repos/Ta-ti-Alex/-Python-Data-Science/issues{/number}', 'pulls_url': 'https://api.github.com/repos/Ta-ti-Alex/-Python-Data-Science/pulls{/number}', 'milestones_url': 'https://api.github.com/repos/Ta-ti-Alex/-Python-Data-Science/milestones{/number}', 'notifications_url': 'https://api.github.com/repos/Ta-ti-Alex/-Python-Data-Science/notifications{?since,all,participating}', 'labels_url': 'https://api.github.com/repos/Ta-ti-Alex/-Python-Data-Science/labels{/name}', 'releases_url': 'https://api.github.com/repos/Ta-ti-Alex/-Python-Data-Science/releases{/id}', 'deployments_url': 'https://api.github.com/repos/Ta-ti-Alex/-Python-Data-Science/deployments', 'created_at': '2023-01-12T08:03:56Z', 'updated_at': '2023-01-12T11:39:49Z', 'pushed_at': '2023-01-12T08:24:16Z', 'git_url': 'git://github.com/Ta-ti-Alex/-Python-Data-Science.git', 'ssh_url': 'git@github.com:Ta-ti-Alex/-Python-Data-Science.git', 'clone_url': 'https://github.com/Ta-ti-Alex/-Python-Data-Science.git', 'svn_url': 'https://github.com/Ta-ti-Alex/-Python-Data-Science', 'homepage': None, 'size': 1, 'stargazers_count': 0, 'watchers_count': 0, 'language': None, 'has_issues': True, 'has_projects': True, 'has_downloads': True, 'has_wiki': True, 'has_pages': False, 'has_discussions': False, 'forks_count': 0, 'mirror_url': None, 'archived': False, 'disabled': False, 'open_issues_count': 0, 'license': None, 'allow_forking': True, 'is_template': False, 'web_commit_signoff_required': False, 'topics': [], 'visibility': 'public', 'forks': 0, 'open_issues': 0, 'watchers': 0, 'default_branch': 'main'}, {'id': 669420694, 'node_id': 'R_kgDOJ-aMlg', 'name': 'geekbrains-methods-data-collection-from-internet', 'full_name': 'Ta-ti-Alex/geekbrains-methods-data-collection-from-internet', 'private': False, 'owner': {'login': 'Ta-ti-Alex', 'id': 122518141, 'node_id': 'U_kgDOB016fQ', 'avatar_url': 'https://avatars.githubusercontent.com/u/122518141?v=4', 'gravatar_id': '', 'url': 'https://api.github.com/users/Ta-ti-Alex', 'html_url': 'https://github.com/Ta-ti-Alex', 'followers_url': 'https://api.github.com/users/Ta-ti-Alex/followers', 'following_url': 'https://api.github.com/users/Ta-ti-Alex/following{/other_user}', 'gists_url': 'https://api.github.com/users/Ta-ti-Alex/gists{/gist_id}', 'starred_url': 'https://api.github.com/users/Ta-ti-Alex/starred{/owner}{/repo}', 'subscriptions_url': 'https://api.github.com/users/Ta-ti-Alex/subscriptions', 'organizations_url': 'https://api.github.com/users/Ta-ti-Alex/orgs', 'repos_url': 'https://api.github.com/users/Ta-ti-Alex/repos', 'events_url': 'https://api.github.com/users/Ta-ti-Alex/events{/privacy}', 'received_events_url': 'https://api.github.com/users/Ta-ti-Alex/received_events', 'type': 'User', 'site_admin': False}, 'html_url': 'https://github.com/Ta-ti-Alex/geekbrains-methods-data-collection-from-internet', 'description': 'Для домашних заданий по курсу сбора данных ', 'fork': False, 'url': 'https://api.github.com/repos/Ta-ti-Alex/geekbrains-methods-data-collection-from-internet', 'forks_url': 'https://api.github.com/repos/Ta-ti-Alex/geekbrains-methods-data-collection-from-internet/forks', 'keys_url': 'https://api.github.com/repos/Ta-ti-Alex/geekbrains-methods-data-collection-from-internet/keys{/key_id}', 'collaborators_url': 'https://api.github.com/repos/Ta-ti-Alex/geekbrains-methods-data-collection-from-internet/collaborators{/collaborator}', 'teams_url': 'https://api.github.com/repos/Ta-ti-Alex/geekbrains-methods-data-collection-from-internet/teams', 'hooks_url': 'https://api.github.com/repos/Ta-ti-Alex/geekbrains-methods-data-collection-from-internet/hooks', 'issue_events_url': 'https://api.github.com/repos/Ta-ti-Alex/geekbrains-methods-data-collection-from-internet/issues/events{/number}', 'events_url': 'https://api.github.com/repos/Ta-ti-Alex/geekbrains-methods-data-collection-from-internet/events', 'assignees_url': 'https://api.github.com/repos/Ta-ti-Alex/geekbrains-methods-data-collection-from-internet/assignees{/user}', 'branches_url': 'https://api.github.com/repos/Ta-ti-Alex/geekbrains-methods-data-collection-from-internet/branches{/branch}', 'tags_url': 'https://api.github.com/repos/Ta-ti-Alex/geekbrains-methods-data-collection-from-internet/tags', 'blobs_url': 'https://api.github.com/repos/Ta-ti-Alex/geekbrains-methods-data-collection-from-internet/git/blobs{/sha}', 'git_tags_url': 'https://api.github.com/repos/Ta-ti-Alex/geekbrains-methods-data-collection-from-internet/git/tags{/sha}', 'git_refs_url': 'https://api.github.com/repos/Ta-ti-Alex/geekbrains-methods-data-collection-from-internet/git/refs{/sha}', 'trees_url': 'https://api.github.com/repos/Ta-ti-Alex/geekbrains-methods-data-collection-from-internet/git/trees{/sha}', 'statuses_url': 'https://api.github.com/repos/Ta-ti-Alex/geekbrains-methods-data-collection-from-internet/statuses/{sha}', 'languages_url': 'https://api.github.com/repos/Ta-ti-Alex/geekbrains-methods-data-collection-from-internet/languages', 'stargazers_url': 'https://api.github.com/repos/Ta-ti-Alex/geekbrains-methods-data-collection-from-internet/stargazers', 'contributors_url': 'https://api.github.com/repos/Ta-ti-Alex/geekbrains-methods-data-collection-from-internet/contributors', 'subscribers_url': 'https://api.github.com/repos/Ta-ti-Alex/geekbrains-methods-data-collection-from-internet/subscribers', 'subscription_url': 'https://api.github.com/repos/Ta-ti-Alex/geekbrains-methods-data-collection-from-internet/subscription', 'commits_url': 'https://api.github.com/repos/Ta-ti-Alex/geekbrains-methods-data-collection-from-internet/commits{/sha}', 'git_commits_url': 'https://api.github.com/repos/Ta-ti-Alex/geekbrains-methods-data-collection-from-internet/git/commits{/sha}', 'comments_url': 'https://api.github.com/repos/Ta-ti-Alex/geekbrains-methods-data-collection-from-internet/comments{/number}', 'issue_comment_url': 'https://api.github.com/repos/Ta-ti-Alex/geekbrains-methods-data-collection-from-internet/issues/comments{/number}', 'contents_url': 'https://api.github.com/repos/Ta-ti-Alex/geekbrains-methods-data-collection-from-internet/contents/{+path}', 'compare_url': 'https://api.github.com/repos/Ta-ti-Alex/geekbrains-methods-data-collection-from-internet/compare/{base}...{head}', 'merges_url': 'https://api.github.com/repos/Ta-ti-Alex/geekbrains-methods-data-collection-from-internet/merges', 'archive_url': 'https://api.github.com/repos/Ta-ti-Alex/geekbrains-methods-data-collection-from-internet/{archive_format}{/ref}', 'downloads_url': 'https://api.github.com/repos/Ta-ti-Alex/geekbrains-methods-data-collection-from-internet/downloads', 'issues_url': 'https://api.github.com/repos/Ta-ti-Alex/geekbrains-methods-data-collection-from-internet/issues{/number}', 'pulls_url': 'https://api.github.com/repos/Ta-ti-Alex/geekbrains-methods-data-collection-from-internet/pulls{/number}', 'milestones_url': 'https://api.github.com/repos/Ta-ti-Alex/geekbrains-methods-data-collection-from-internet/milestones{/number}', 'notifications_url': 'https://api.github.com/repos/Ta-ti-Alex/geekbrains-methods-data-collection-from-internet/notifications{?since,all,participating}', 'labels_url': 'https://api.github.com/repos/Ta-ti-Alex/geekbrains-methods-data-collection-from-internet/labels{/name}', 'releases_url': 'https://api.github.com/repos/Ta-ti-Alex/geekbrains-methods-data-collection-from-internet/releases{/id}', 'deployments_url': 'https://api.github.com/repos/Ta-ti-Alex/geekbrains-methods-data-collection-from-internet/deployments', 'created_at': '2023-07-22T08:10:30Z', 'updated_at': '2023-07-22T08:10:30Z', 'pushed_at': '2023-07-22T08:10:30Z', 'git_url': 'git://github.com/Ta-ti-Alex/geekbrains-methods-data-collection-from-internet.git', 'ssh_url': 'git@github.com:Ta-ti-Alex/geekbrains-methods-data-collection-from-internet.git', 'clone_url': 'https://github.com/Ta-ti-Alex/geekbrains-methods-data-collection-from-internet.git', 'svn_url': 'https://github.com/Ta-ti-Alex/geekbrains-methods-data-collection-from-internet', 'homepage': None, 'size': 14, 'stargazers_count': 0, 'watchers_count': 0, 'language': None, 'has_issues': True, 'has_projects': True, 'has_downloads': True, 'has_wiki': True, 'has_pages': False, 'has_discussions': False, 'forks_count': 0, 'mirror_url': None, 'archived': False, 'disabled': False, 'open_issues_count': 0, 'license': {'key': 'gpl-3.0', 'name': 'GNU General Public License v3.0', 'spdx_id': 'GPL-3.0', 'url': 'https://api.github.com/licenses/gpl-3.0', 'node_id': 'MDc6TGljZW5zZTk='}, 'allow_forking': True, 'is_template': False, 'web_commit_signoff_required': False, 'topics': [], 'visibility': 'public', 'forks': 0, 'open_issues': 0, 'watchers': 0, 'default_branch': 'main'}]\n"
     ]
    }
   ],
   "source": [
    "response = get_data(url)\n",
    "print('Получен результат')\n",
    "print(response)\n"
   ]
  },
  {
   "cell_type": "code",
   "execution_count": 9,
   "metadata": {},
   "outputs": [
    {
     "name": "stdout",
     "output_type": "stream",
     "text": [
      "Список репозиториев пользователя Ta-ti-Alex\n",
      "['-Python-Data-Science', 'geekbrains-methods-data-collection-from-internet']\n"
     ]
    }
   ],
   "source": [
    "repo = []\n",
    "for itm in response:\n",
    "    repo.append(itm['name'])\n",
    "print(f'Список репозиториев пользователя {username}')\n",
    "print(repo)"
   ]
  },
  {
   "cell_type": "code",
   "execution_count": 11,
   "metadata": {},
   "outputs": [],
   "source": [
    "with open('1_1_repo.json', 'w') as f:\n",
    "    json_repo = json.dump(repo, f)"
   ]
  },
  {
   "cell_type": "code",
   "execution_count": null,
   "metadata": {},
   "outputs": [],
   "source": []
  },
  {
   "cell_type": "code",
   "execution_count": null,
   "metadata": {},
   "outputs": [],
   "source": []
  }
 ],
 "metadata": {
  "kernelspec": {
   "display_name": "Python 3",
   "language": "python",
   "name": "python3"
  },
  "language_info": {
   "codemirror_mode": {
    "name": "ipython",
    "version": 3
   },
   "file_extension": ".py",
   "mimetype": "text/x-python",
   "name": "python",
   "nbconvert_exporter": "python",
   "pygments_lexer": "ipython3",
   "version": "3.8.5"
  }
 },
 "nbformat": 4,
 "nbformat_minor": 4
}
