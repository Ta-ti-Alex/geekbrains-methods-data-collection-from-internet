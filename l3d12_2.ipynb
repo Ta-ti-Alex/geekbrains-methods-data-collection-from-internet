{
 "cells": [
  {
   "cell_type": "raw",
   "metadata": {},
   "source": [
    "Парсинг данных. HTML, Beautiful Soap\n",
    "1. Развернуть у себя на компьютере/виртуальной машине/хостинге MongoDB и реализовать функцию, которая будет добавлять только новые вакансии в вашу базу.\n",
    "2. Написать функцию, которая производит поиск и выводит на экран вакансии с заработной платой больше введённой суммы (необходимо анализировать оба поля зарплаты, то есть цифра вводится одна, а запрос проверяет оба поля)"
   ]
  },
  {
   "cell_type": "raw",
   "metadata": {},
   "source": [
    "Замечания\n",
    "Добрый день! Нет, немного не так выполнили задание.\n",
    "1. Нет использования базы данных. Собранные вакансии нружно складывать в базу монго.\n",
    "2. На этапе парсинга и сбора у вас в базу должны попадать все вакансии хоть с зарплатой хоть без. Единственное условие - они не должны повторяться. Поэтому здесь нужно делать проверку - а есть ли такая вакансия уже в базе\n",
    "3. Отдельной функцией должен быть запрос к базе, который првоерит все существующие вакансии, но на экран выдаст только те, которые соответсвуют критерию поиска (больше, чем введенное число)\n",
    "Вынужден отправить на доработку"
   ]
  },
  {
   "cell_type": "code",
   "execution_count": 27,
   "metadata": {},
   "outputs": [],
   "source": [
    "from bs4 import BeautifulSoup\n",
    "import requests\n",
    "from pprint import pprint\n",
    "import pandas as pd \n",
    "from pymongo import MongoClient\n",
    "from pymongo.errors import DuplicateKeyError"
   ]
  },
  {
   "cell_type": "code",
   "execution_count": 28,
   "metadata": {},
   "outputs": [],
   "source": [
    "headers = {'User-Agent': 'Mozilla/5.0 (X11; Linux x86_64) AppleWebKit/537.36 (KHTML, like Gecko) Chrome/114.0.0.0 Safari/537.36'}\n",
    "params = {'page': 1}\n",
    "url = \"https://hh.ru\"\n",
    "session = requests.Session()"
   ]
  },
  {
   "cell_type": "code",
   "execution_count": 30,
   "metadata": {
    "scrolled": true
   },
   "outputs": [
    {
     "name": "stdout",
     "output_type": "stream",
     "text": [
      "Введите значение слова поиска: Python\n"
     ]
    }
   ],
   "source": [
    "world = input('Введите значение слова поиска: ')\n",
    "#world = 'Python'"
   ]
  },
  {
   "cell_type": "code",
   "execution_count": 31,
   "metadata": {},
   "outputs": [
    {
     "data": {
      "text/plain": [
       "'Python'"
      ]
     },
     "execution_count": 31,
     "metadata": {},
     "output_type": "execute_result"
    }
   ],
   "source": [
    "world"
   ]
  },
  {
   "cell_type": "code",
   "execution_count": 32,
   "metadata": {},
   "outputs": [],
   "source": [
    "n=1"
   ]
  },
  {
   "cell_type": "code",
   "execution_count": 33,
   "metadata": {},
   "outputs": [],
   "source": [
    "# Подключаем базу\n",
    "client = MongoClient('127.0.0.1', 27017)"
   ]
  },
  {
   "cell_type": "code",
   "execution_count": 35,
   "metadata": {},
   "outputs": [],
   "source": [
    "response = session.get('https://hh.ru/search/vacancy?text=' + world + '&from=suggest_post', headers=headers,params=params)"
   ]
  },
  {
   "cell_type": "code",
   "execution_count": 36,
   "metadata": {},
   "outputs": [
    {
     "data": {
      "text/plain": [
       "<Response [200]>"
      ]
     },
     "execution_count": 36,
     "metadata": {},
     "output_type": "execute_result"
    }
   ],
   "source": [
    "response"
   ]
  },
  {
   "cell_type": "code",
   "execution_count": 38,
   "metadata": {},
   "outputs": [],
   "source": [
    "db = client['vacancy']\n"
   ]
  },
  {
   "cell_type": "code",
   "execution_count": 39,
   "metadata": {},
   "outputs": [],
   "source": [
    "persons= db.persons # collection"
   ]
  },
  {
   "cell_type": "raw",
   "metadata": {},
   "source": [
    "n<3 - у меня комп тормозит, можно это условие убрать и оставить while response"
   ]
  },
  {
   "cell_type": "code",
   "execution_count": 56,
   "metadata": {},
   "outputs": [],
   "source": [
    "while response and n<3:\n",
    "    soup = BeautifulSoup(response.text, \"html.parser\")\n",
    "    articles = soup.find_all('div', {'class': 'vacancy-serp-item-body__main-info'})\n",
    "    for article in articles:\n",
    "        info = article.find('a', {'class': 'serp-item__title'})\n",
    "        vacname=info.text\n",
    "        link = article.find('a').get('href')\n",
    "        salary = article.find('span', {'class': 'bloko-header-section-2'}) \n",
    "        is_check_sarary =''\n",
    "        salary_currency =''\n",
    "        salary_max =''\n",
    "        salary_min =''\n",
    "        vtmp1 =''\n",
    "        vtmp2 =''\n",
    "        v= ''\n",
    "        if not salary:\n",
    "            pass\n",
    "        else:\n",
    "            is_check_sarary = salary.text.replace(u'\\u202f', u' ')\n",
    "            v = is_check_sarary[is_check_sarary.rfind(' ')+1:]\n",
    "            is_check_sarary =is_check_sarary.replace(v, '')\n",
    "            is_check_sarary =is_check_sarary.replace(' ', '')\n",
    "            k =0\n",
    "            for i in is_check_sarary:\n",
    "                #i.isdigit()\n",
    "                if i.isdigit() and k==0:\n",
    "                    vtmp1=vtmp1+i\n",
    "                elif i == ' ' and k==0:\n",
    "                    pass\n",
    "                elif vtmp1 !='':\n",
    "                    k=1\n",
    "                else:\n",
    "                    pass\n",
    "            k=0\n",
    "            for i in reversed(is_check_sarary): \n",
    "                if i.isdigit() and k==0:\n",
    "                    vtmp2=i+vtmp2\n",
    "                elif i == ' ' and k==0:\n",
    "                    pass\n",
    "                elif vtmp2 !='':\n",
    "                    k=1\n",
    "                else:\n",
    "                    pass\n",
    "            if 'до' in is_check_sarary:\n",
    "                salary_min =''\n",
    "                salary_max = vtmp2\n",
    "            elif 'от' in is_check_sarary:\n",
    "                salary_min = vtmp1\n",
    "                salary_max = ''\n",
    "            elif '–' in is_check_sarary:\n",
    "                salary_min = vtmp1\n",
    "                salary_max = vtmp2\n",
    "            else:\n",
    "                salary_currency = vtmp1\n",
    "        #Уникальность вакансии проверяем по ссылке, ее и подставляем в id\n",
    "        if persons.find_one({'_id': link}):\n",
    "            pass\n",
    "        else:\n",
    "            persons.insert_one({'vacancy': vacname, '_id': link, 'salary_min': salary_min, 'salary_currency': salary_currency, 'salary_max': salary_max, 'v': v,'key':world})\n",
    "            #print(vacname);        \n",
    "    response = session.get('https://hh.ru/search/vacancy?text=' + world + '&from=suggest_post', headers=headers,params=params)\n",
    "    n=n+1\n"
   ]
  },
  {
   "cell_type": "raw",
   "metadata": {},
   "source": [
    "Проверяем пополи ли в базу вакансии"
   ]
  },
  {
   "cell_type": "code",
   "execution_count": 59,
   "metadata": {},
   "outputs": [
    {
     "name": "stdout",
     "output_type": "stream",
     "text": [
      "{'_id': 'https://hh.ru/vacancy/84418444?from=vacancy_search_list&query=Python',\n",
      " 'key': 'Python',\n",
      " 'salary_currency': '',\n",
      " 'salary_max': '',\n",
      " 'salary_min': '',\n",
      " 'v': '',\n",
      " 'vacancy': 'Python разработчик'}\n",
      "{'_id': 'https://hh.ru/vacancy/84255351?from=vacancy_search_list&query=Python',\n",
      " 'key': 'Python',\n",
      " 'salary_currency': '',\n",
      " 'salary_max': '380000',\n",
      " 'salary_min': '250000',\n",
      " 'v': '₽',\n",
      " 'vacancy': 'Data Scientist middle+/Senior'}\n",
      "{'_id': 'https://hh.ru/vacancy/84260215?from=vacancy_search_list&query=Python',\n",
      " 'key': 'Python',\n",
      " 'salary_currency': '',\n",
      " 'salary_max': '170000',\n",
      " 'salary_min': '150000',\n",
      " 'v': '₽',\n",
      " 'vacancy': 'ГИС-разработчик (Python)'}\n",
      "{'_id': 'https://hh.ru/vacancy/84001239?from=vacancy_search_list&query=Python',\n",
      " 'key': 'Python',\n",
      " 'salary_currency': '',\n",
      " 'salary_max': '300000',\n",
      " 'salary_min': '',\n",
      " 'v': '₽',\n",
      " 'vacancy': 'Программист Python'}\n",
      "{'_id': 'https://hh.ru/vacancy/83655667?from=vacancy_search_list&query=Python',\n",
      " 'key': 'Python',\n",
      " 'salary_currency': '',\n",
      " 'salary_max': '190000',\n",
      " 'salary_min': '100000',\n",
      " 'v': '₽',\n",
      " 'vacancy': 'Разработчик Python Middle'}\n",
      "{'_id': 'https://hh.ru/vacancy/84018264?from=vacancy_search_list&query=Python',\n",
      " 'key': 'Python',\n",
      " 'salary_currency': '',\n",
      " 'salary_max': '300000',\n",
      " 'salary_min': '250000',\n",
      " 'v': '₽',\n",
      " 'vacancy': 'Middle+ Python Developer (backend)'}\n",
      "{'_id': 'https://hh.ru/vacancy/83336118?from=vacancy_search_list&query=Python',\n",
      " 'key': 'Python',\n",
      " 'salary_currency': '',\n",
      " 'salary_max': '300000',\n",
      " 'salary_min': '200000',\n",
      " 'v': '₽',\n",
      " 'vacancy': 'Python/PostgreSQL разработчик'}\n",
      "{'_id': 'https://hh.ru/vacancy/79828667?from=vacancy_search_list&query=Python',\n",
      " 'key': 'Python',\n",
      " 'salary_currency': '',\n",
      " 'salary_max': '',\n",
      " 'salary_min': '200000',\n",
      " 'v': '₽',\n",
      " 'vacancy': 'Middle Python developer (офис)'}\n",
      "{'_id': 'https://hh.ru/vacancy/84248467?from=vacancy_search_list&query=Python',\n",
      " 'key': 'Python',\n",
      " 'salary_currency': '',\n",
      " 'salary_max': '',\n",
      " 'salary_min': '3800',\n",
      " 'v': 'Br',\n",
      " 'vacancy': 'Инженер-программист (Python)'}\n",
      "{'_id': 'https://hh.ru/vacancy/84051060?from=vacancy_search_list&query=Python',\n",
      " 'key': 'Python',\n",
      " 'salary_currency': '',\n",
      " 'salary_max': '',\n",
      " 'salary_min': '',\n",
      " 'v': '',\n",
      " 'vacancy': 'Python-разработчик'}\n",
      "{'_id': 'https://hh.ru/vacancy/83449672?from=vacancy_search_list&query=Python',\n",
      " 'key': 'Python',\n",
      " 'salary_currency': '',\n",
      " 'salary_max': '',\n",
      " 'salary_min': '',\n",
      " 'v': '',\n",
      " 'vacancy': 'Python разработчик'}\n",
      "{'_id': 'https://hh.ru/vacancy/83578226?from=vacancy_search_list&query=Python',\n",
      " 'key': 'Python',\n",
      " 'salary_currency': '',\n",
      " 'salary_max': '250000',\n",
      " 'salary_min': '140000',\n",
      " 'v': '₽',\n",
      " 'vacancy': 'Middle Python-разработчик'}\n",
      "{'_id': 'https://hh.ru/vacancy/84023872?from=vacancy_search_list&query=Python',\n",
      " 'key': 'Python',\n",
      " 'salary_currency': '',\n",
      " 'salary_max': '120000',\n",
      " 'salary_min': '',\n",
      " 'v': '₽',\n",
      " 'vacancy': 'Python Developer (Low-Code) / Разработчик'}\n",
      "{'_id': 'https://hh.ru/vacancy/84501930?from=vacancy_search_list&query=Python',\n",
      " 'key': 'Python',\n",
      " 'salary_currency': '',\n",
      " 'salary_max': '',\n",
      " 'salary_min': '',\n",
      " 'v': '',\n",
      " 'vacancy': 'Python Frontend - Backend Developer (Django)'}\n",
      "{'_id': 'https://hh.ru/vacancy/84448764?from=vacancy_search_list&query=Python',\n",
      " 'key': 'Python',\n",
      " 'salary_currency': '',\n",
      " 'salary_max': '200000',\n",
      " 'salary_min': '150000',\n",
      " 'v': '₽',\n",
      " 'vacancy': 'Python-разработчик'}\n",
      "{'_id': 'https://hh.ru/vacancy/84482470?from=vacancy_search_list&query=Python',\n",
      " 'key': 'Python',\n",
      " 'salary_currency': '',\n",
      " 'salary_max': '',\n",
      " 'salary_min': '150000',\n",
      " 'v': '₽',\n",
      " 'vacancy': 'Разработчик backend (Python)'}\n",
      "{'_id': 'https://hh.ru/vacancy/83574970?from=vacancy_search_list&query=Python',\n",
      " 'key': 'Python',\n",
      " 'salary_currency': '',\n",
      " 'salary_max': '',\n",
      " 'salary_min': '',\n",
      " 'v': '',\n",
      " 'vacancy': 'Junior Data Engineer'}\n",
      "{'_id': 'https://hh.ru/vacancy/84289248?from=vacancy_search_list&query=Python',\n",
      " 'key': 'Python',\n",
      " 'salary_currency': '',\n",
      " 'salary_max': '',\n",
      " 'salary_min': '',\n",
      " 'v': '',\n",
      " 'vacancy': 'Программист Python (Ялта)'}\n",
      "{'_id': 'https://hh.ru/vacancy/84475896?from=vacancy_search_list&query=Python',\n",
      " 'key': 'Python',\n",
      " 'salary_currency': '',\n",
      " 'salary_max': '',\n",
      " 'salary_min': '150000',\n",
      " 'v': '₽',\n",
      " 'vacancy': 'Middle Python (django) разработчик'}\n",
      "{'_id': 'https://hh.ru/vacancy/84372463?from=vacancy_search_list&query=Python',\n",
      " 'key': 'Python',\n",
      " 'salary_currency': '',\n",
      " 'salary_max': '200000',\n",
      " 'salary_min': '150000',\n",
      " 'v': '₽',\n",
      " 'vacancy': 'Python-разработчик / Middle Python Developer'}\n"
     ]
    }
   ],
   "source": [
    "for doc in persons.find({}):\n",
    "    pprint(doc)"
   ]
  },
  {
   "cell_type": "raw",
   "metadata": {},
   "source": [
    "Теперь добавим функцию отбора нужных вакансий с зарплатой более заданного числа"
   ]
  },
  {
   "cell_type": "code",
   "execution_count": 117,
   "metadata": {},
   "outputs": [],
   "source": [
    "def vacmin(salarymin):\n",
    "    for doc in persons.find({}):\n",
    "    #if doc[salary_max]=='':\n",
    "        if doc.get('salary_max')!='':\n",
    "            if doc.get('salary_min')!='':\n",
    "                sm = doc.get('salary_min')\n",
    "                smd = int(sm)\n",
    "                if smd>salarymin:\n",
    "                    pprint(doc)\n",
    "            else:\n",
    "                sm = doc.get('salary_max')\n",
    "                smd = int(sm)\n",
    "                if smd>salarymin:\n",
    "                    pprint(doc)\n",
    "        elif doc.get('salary_currency')!='':\n",
    "            sm = doc.get('salary_currency')\n",
    "            smd = int(sm)\n",
    "            if smd>salarymin:\n",
    "                pprint(doc)\n",
    "            \n",
    "        elif doc.get('salary_min')!='':\n",
    "            sm = doc.get('salary_min')\n",
    "            smd = int(sm)\n",
    "            if smd>salarymin:\n",
    "                pprint(doc)\n",
    "        else:\n",
    "            pass\n",
    "        "
   ]
  },
  {
   "cell_type": "code",
   "execution_count": 121,
   "metadata": {},
   "outputs": [
    {
     "name": "stdout",
     "output_type": "stream",
     "text": [
      "Введите значение минимума в рублях (нам нужны зарплаты более): 200000\n"
     ]
    }
   ],
   "source": [
    "salarymin = int(input('Введите значение минимума в рублях (нам нужны зарплаты более): '))"
   ]
  },
  {
   "cell_type": "code",
   "execution_count": 120,
   "metadata": {},
   "outputs": [
    {
     "name": "stdout",
     "output_type": "stream",
     "text": [
      "{'_id': 'https://hh.ru/vacancy/84255351?from=vacancy_search_list&query=Python',\n",
      " 'key': 'Python',\n",
      " 'salary_currency': '',\n",
      " 'salary_max': '380000',\n",
      " 'salary_min': '250000',\n",
      " 'v': '₽',\n",
      " 'vacancy': 'Data Scientist middle+/Senior'}\n",
      "{'_id': 'https://hh.ru/vacancy/84001239?from=vacancy_search_list&query=Python',\n",
      " 'key': 'Python',\n",
      " 'salary_currency': '',\n",
      " 'salary_max': '300000',\n",
      " 'salary_min': '',\n",
      " 'v': '₽',\n",
      " 'vacancy': 'Программист Python'}\n",
      "{'_id': 'https://hh.ru/vacancy/84018264?from=vacancy_search_list&query=Python',\n",
      " 'key': 'Python',\n",
      " 'salary_currency': '',\n",
      " 'salary_max': '300000',\n",
      " 'salary_min': '250000',\n",
      " 'v': '₽',\n",
      " 'vacancy': 'Middle+ Python Developer (backend)'}\n"
     ]
    }
   ],
   "source": [
    "vacmin(salarymin)"
   ]
  },
  {
   "cell_type": "code",
   "execution_count": null,
   "metadata": {},
   "outputs": [],
   "source": []
  }
 ],
 "metadata": {
  "kernelspec": {
   "display_name": "Python 3",
   "language": "python",
   "name": "python3"
  },
  "language_info": {
   "codemirror_mode": {
    "name": "ipython",
    "version": 3
   },
   "file_extension": ".py",
   "mimetype": "text/x-python",
   "name": "python",
   "nbconvert_exporter": "python",
   "pygments_lexer": "ipython3",
   "version": "3.8.5"
  }
 },
 "nbformat": 4,
 "nbformat_minor": 4
}
