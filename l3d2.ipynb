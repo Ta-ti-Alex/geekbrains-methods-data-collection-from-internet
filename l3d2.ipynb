{
 "cells": [
  {
   "cell_type": "markdown",
   "metadata": {},
   "source": [
    "2.Написать функцию, которая производит поиск и выводит на экран вакансии с заработной платой больше введённой суммы (необходимо анализировать оба поля зарплаты, то есть цифра вводится одна, а запрос проверяет оба поля)"
   ]
  },
  {
   "cell_type": "code",
   "execution_count": 1,
   "metadata": {},
   "outputs": [],
   "source": [
    "from bs4 import BeautifulSoup\n",
    "import requests\n",
    "from pprint import pprint\n",
    "import pandas as pd"
   ]
  },
  {
   "cell_type": "code",
   "execution_count": 2,
   "metadata": {},
   "outputs": [
    {
     "name": "stdout",
     "output_type": "stream",
     "text": [
      "Введите значение слова поиска: Python\n"
     ]
    }
   ],
   "source": [
    "#Python\n",
    "world = input('Введите значение слова поиска: ')"
   ]
  },
  {
   "cell_type": "code",
   "execution_count": 24,
   "metadata": {},
   "outputs": [
    {
     "name": "stdout",
     "output_type": "stream",
     "text": [
      "Введите значение зарплаты, менше которой вакансии нас не интересуют(в рублях): 100000\n"
     ]
    }
   ],
   "source": [
    "smin = int(input('Введите значение зарплаты, менше которой вакансии нас не интересуют(в рублях): '))"
   ]
  },
  {
   "cell_type": "code",
   "execution_count": 6,
   "metadata": {},
   "outputs": [],
   "source": [
    "Name = ['Вакансия','Ссылка на вакансию','Минимальна зароботная плата','Фиксированная ставка','Максимальная зароботная плата','Валюта'] \n",
    "   "
   ]
  },
  {
   "cell_type": "code",
   "execution_count": 7,
   "metadata": {},
   "outputs": [],
   "source": [
    "def parser_hh(world,smin):\n",
    "    headers = {'User-Agent': 'Mozilla/5.0 (X11; Linux x86_64) AppleWebKit/537.36 (KHTML, like Gecko) Chrome/114.0.0.0 Safari/537.36'}\n",
    "    params = {'page': 1}\n",
    "    url = \"https://hh.ru\"\n",
    "    #Name = ['Вакансия','Ссылка на вакансию','Минимальна зароботная плата','Фиксированая ставка','Максимальная зароботная плата','Валюта'] \n",
    "    vacancy_date = []\n",
    "    session = requests.Session()\n",
    "    n=1\n",
    "    response = session.get('https://hh.ru/search/vacancy?text='+world+'&from=suggest_post', headers=headers, params=params)\n",
    "   # У меня очень тормозит комп, поэтому можно заменить строку 'while response and n<3:' на строку 'while response:'\n",
    "    while response and n<5:\n",
    "        soup = BeautifulSoup(response.text, \"html.parser\")\n",
    "        articles = soup.find_all('div', {'class': 'vacancy-serp-item-body__main-info'})\n",
    "        for article in articles:\n",
    "            info = article.find('a', {'class': 'serp-item__title'})\n",
    "            vacname=info.text\n",
    "            link = article.find('a').get('href')\n",
    "            salary = article.find('span', {'class': 'bloko-header-section-2'}) \n",
    "            is_check_sarary =''\n",
    "            salary_currency = None\n",
    "            salary_max = None\n",
    "            salary_min = None\n",
    "            vtmp1 =''\n",
    "            vtmp2 =''\n",
    "            v= ''\n",
    "            if not salary:\n",
    "                pass\n",
    "            else:\n",
    "                is_check_sarary = salary.text.replace(u'\\u202f', u' ')\n",
    "                v = is_check_sarary[is_check_sarary.rfind(' ')+1:]\n",
    "                is_check_sarary =is_check_sarary.replace(v, '')\n",
    "                is_check_sarary =is_check_sarary.replace(' ', '')\n",
    "                k =0\n",
    "                for i in is_check_sarary:\n",
    "                    if i.isdigit() and k==0:\n",
    "                        vtmp1=vtmp1+i\n",
    "                    elif i == ' ' and k==0:\n",
    "                        pass\n",
    "                    elif vtmp1 !='':\n",
    "                        k=1\n",
    "                    else:\n",
    "                        pass\n",
    "                k=0\n",
    "                for i in reversed(is_check_sarary): \n",
    "                    if i.isdigit() and k==0:\n",
    "                        vtmp2=i+vtmp2\n",
    "                    elif i == ' ' and k==0:\n",
    "                        pass\n",
    "                    elif vtmp2 !='':\n",
    "                        k=1\n",
    "                    else:\n",
    "                        pass\n",
    "                if v=='₽':\n",
    "                    if 'до' in is_check_sarary:\n",
    "                        salary_max = int(vtmp2)\n",
    "                        if smin < int(vtmp2):\n",
    "                            vacancy_date.append([vacname,link,salary_min,salary_currency,salary_max,v])\n",
    "                    elif 'от' in is_check_sarary:\n",
    "                        salary_min = int(vtmp1)\n",
    "                        if smin<int(vtmp1):\n",
    "                            vacancy_date.append([vacname,link,salary_min,salary_currency,salary_max,v])\n",
    "                        #salary_max = ''\n",
    "                    elif '–' in is_check_sarary:\n",
    "                        if smin<int(vtmp1) and smin<int(vtmp2):\n",
    "                            salary_min = int(vtmp1)\n",
    "                            salary_max = int(vtmp2)\n",
    "                            vacancy_date.append([vacname,link,salary_min,salary_currency,salary_max,v])\n",
    "                    else:\n",
    "                        if smin<int(vtmp1):\n",
    "                            salary_currency = int(vtmp1)\n",
    "                            vacancy_date.append([vacname,link,salary_min,salary_currency,salary_max,v])\n",
    "                    \n",
    "            n=n+1\n",
    "            params['page']+=1\n",
    "            response = session.get('https://hh.ru/search/vacancy?text='+world+'&from=suggest_post', headers=headers, params=params)\n",
    "        return vacancy_date\n",
    "    #print(n)\n",
    "    #dframe = pd.DataFrame(vacancy_date, columns=Name)\n",
    "    #dframe"
   ]
  },
  {
   "cell_type": "code",
   "execution_count": 8,
   "metadata": {},
   "outputs": [
    {
     "name": "stdout",
     "output_type": "stream",
     "text": [
      "Собрана информация о вакансиях с сата https://hh.ru по ключевому слову Python.\n"
     ]
    }
   ],
   "source": [
    "print(f\"Собрана информация о вакансиях с сата https://hh.ru по ключевому слову {world}.\")"
   ]
  },
  {
   "cell_type": "code",
   "execution_count": 9,
   "metadata": {},
   "outputs": [
    {
     "data": {
      "text/html": [
       "<div>\n",
       "<style scoped>\n",
       "    .dataframe tbody tr th:only-of-type {\n",
       "        vertical-align: middle;\n",
       "    }\n",
       "\n",
       "    .dataframe tbody tr th {\n",
       "        vertical-align: top;\n",
       "    }\n",
       "\n",
       "    .dataframe thead th {\n",
       "        text-align: right;\n",
       "    }\n",
       "</style>\n",
       "<table border=\"1\" class=\"dataframe\">\n",
       "  <thead>\n",
       "    <tr style=\"text-align: right;\">\n",
       "      <th></th>\n",
       "      <th>Вакансия</th>\n",
       "      <th>Ссылка на вакансию</th>\n",
       "      <th>Минимальна зароботная плата</th>\n",
       "      <th>Фиксированная ставка</th>\n",
       "      <th>Максимальная зароботная плата</th>\n",
       "      <th>Валюта</th>\n",
       "    </tr>\n",
       "  </thead>\n",
       "  <tbody>\n",
       "    <tr>\n",
       "      <th>0</th>\n",
       "      <td>Преподаватель программирования в колледж</td>\n",
       "      <td>https://adsrv.hh.ru/click?b=472541&amp;c=6&amp;place=3...</td>\n",
       "      <td>65000</td>\n",
       "      <td>None</td>\n",
       "      <td>120000.0</td>\n",
       "      <td>₽</td>\n",
       "    </tr>\n",
       "    <tr>\n",
       "      <th>1</th>\n",
       "      <td>Middle/Senior Python developer</td>\n",
       "      <td>https://hh.ru/vacancy/83808487?from=vacancy_se...</td>\n",
       "      <td>200000</td>\n",
       "      <td>None</td>\n",
       "      <td>350000.0</td>\n",
       "      <td>₽</td>\n",
       "    </tr>\n",
       "    <tr>\n",
       "      <th>2</th>\n",
       "      <td>Middle разработчик Python / Django</td>\n",
       "      <td>https://hh.ru/vacancy/82910400?from=vacancy_se...</td>\n",
       "      <td>60000</td>\n",
       "      <td>None</td>\n",
       "      <td>140000.0</td>\n",
       "      <td>₽</td>\n",
       "    </tr>\n",
       "    <tr>\n",
       "      <th>3</th>\n",
       "      <td>Middle Backend разработчик (Python + Golang)</td>\n",
       "      <td>https://hh.ru/vacancy/82915680?from=vacancy_se...</td>\n",
       "      <td>200000</td>\n",
       "      <td>None</td>\n",
       "      <td>285000.0</td>\n",
       "      <td>₽</td>\n",
       "    </tr>\n",
       "    <tr>\n",
       "      <th>4</th>\n",
       "      <td>Senior Python Developer (AI, robotics)</td>\n",
       "      <td>https://hh.ru/vacancy/81940901?from=vacancy_se...</td>\n",
       "      <td>250000</td>\n",
       "      <td>None</td>\n",
       "      <td>500000.0</td>\n",
       "      <td>₽</td>\n",
       "    </tr>\n",
       "    <tr>\n",
       "      <th>5</th>\n",
       "      <td>Программист Python</td>\n",
       "      <td>https://hh.ru/vacancy/82795669?from=vacancy_se...</td>\n",
       "      <td>60000</td>\n",
       "      <td>None</td>\n",
       "      <td>NaN</td>\n",
       "      <td>₽</td>\n",
       "    </tr>\n",
       "    <tr>\n",
       "      <th>6</th>\n",
       "      <td>Разработчик Python (FastAPI, MySQL, Clickhouse...</td>\n",
       "      <td>https://hh.ru/vacancy/82826027?from=vacancy_se...</td>\n",
       "      <td>180000</td>\n",
       "      <td>None</td>\n",
       "      <td>270000.0</td>\n",
       "      <td>₽</td>\n",
       "    </tr>\n",
       "    <tr>\n",
       "      <th>7</th>\n",
       "      <td>Программист Python</td>\n",
       "      <td>https://hh.ru/vacancy/83028791?from=vacancy_se...</td>\n",
       "      <td>60000</td>\n",
       "      <td>None</td>\n",
       "      <td>120000.0</td>\n",
       "      <td>₽</td>\n",
       "    </tr>\n",
       "  </tbody>\n",
       "</table>\n",
       "</div>"
      ],
      "text/plain": [
       "                                            Вакансия  \\\n",
       "0           Преподаватель программирования в колледж   \n",
       "1                     Middle/Senior Python developer   \n",
       "2                 Middle разработчик Python / Django   \n",
       "3       Middle Backend разработчик (Python + Golang)   \n",
       "4             Senior Python Developer (AI, robotics)   \n",
       "5                                 Программист Python   \n",
       "6  Разработчик Python (FastAPI, MySQL, Clickhouse...   \n",
       "7                                 Программист Python   \n",
       "\n",
       "                                  Ссылка на вакансию  \\\n",
       "0  https://adsrv.hh.ru/click?b=472541&c=6&place=3...   \n",
       "1  https://hh.ru/vacancy/83808487?from=vacancy_se...   \n",
       "2  https://hh.ru/vacancy/82910400?from=vacancy_se...   \n",
       "3  https://hh.ru/vacancy/82915680?from=vacancy_se...   \n",
       "4  https://hh.ru/vacancy/81940901?from=vacancy_se...   \n",
       "5  https://hh.ru/vacancy/82795669?from=vacancy_se...   \n",
       "6  https://hh.ru/vacancy/82826027?from=vacancy_se...   \n",
       "7  https://hh.ru/vacancy/83028791?from=vacancy_se...   \n",
       "\n",
       "   Минимальна зароботная плата Фиксированная ставка  \\\n",
       "0                        65000                 None   \n",
       "1                       200000                 None   \n",
       "2                        60000                 None   \n",
       "3                       200000                 None   \n",
       "4                       250000                 None   \n",
       "5                        60000                 None   \n",
       "6                       180000                 None   \n",
       "7                        60000                 None   \n",
       "\n",
       "   Максимальная зароботная плата Валюта  \n",
       "0                       120000.0      ₽  \n",
       "1                       350000.0      ₽  \n",
       "2                       140000.0      ₽  \n",
       "3                       285000.0      ₽  \n",
       "4                       500000.0      ₽  \n",
       "5                            NaN      ₽  \n",
       "6                       270000.0      ₽  \n",
       "7                       120000.0      ₽  "
      ]
     },
     "execution_count": 9,
     "metadata": {},
     "output_type": "execute_result"
    }
   ],
   "source": [
    "dframe = pd.DataFrame(parser_hh(world,smin), columns=Name)\n",
    "dframe"
   ]
  },
  {
   "cell_type": "code",
   "execution_count": 6,
   "metadata": {},
   "outputs": [],
   "source": []
  },
  {
   "cell_type": "code",
   "execution_count": null,
   "metadata": {},
   "outputs": [],
   "source": []
  }
 ],
 "metadata": {
  "kernelspec": {
   "display_name": "Python 3",
   "language": "python",
   "name": "python3"
  },
  "language_info": {
   "codemirror_mode": {
    "name": "ipython",
    "version": 3
   },
   "file_extension": ".py",
   "mimetype": "text/x-python",
   "name": "python",
   "nbconvert_exporter": "python",
   "pygments_lexer": "ipython3",
   "version": "3.8.5"
  }
 },
 "nbformat": 4,
 "nbformat_minor": 4
}
