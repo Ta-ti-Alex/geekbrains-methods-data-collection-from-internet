{
 "cells": [
  {
   "cell_type": "markdown",
   "metadata": {},
   "source": [
    "Написать приложение, которое собирает основные новости с сайта на выбор news.mail.ru, lenta.ru. Для парсинга использовать XPath. Структура данных должна содержать:\n",
    "название источника;\n",
    "наименование новости;\n",
    "ссылку на новость;\n",
    "дата публикации.\n",
    "Сложить собранные новости в БД"
   ]
  },
  {
   "cell_type": "code",
   "execution_count": 92,
   "metadata": {},
   "outputs": [
    {
     "name": "stdout",
     "output_type": "stream",
     "text": [
      "Requirement already satisfied: lxml in c:\\programdata\\anaconda3\\lib\\site-packages (4.6.1)Note: you may need to restart the kernel to use updated packages.\n",
      "\n"
     ]
    }
   ],
   "source": [
    "pip install lxml"
   ]
  },
  {
   "cell_type": "code",
   "execution_count": 12,
   "metadata": {},
   "outputs": [],
   "source": [
    "from lxml import html"
   ]
  },
  {
   "cell_type": "code",
   "execution_count": 94,
   "metadata": {},
   "outputs": [
    {
     "name": "stdout",
     "output_type": "stream",
     "text": [
      "Requirement already satisfied: pymongo in c:\\programdata\\anaconda3\\lib\\site-packages (4.4.1)\n",
      "Requirement already satisfied: dnspython<3.0.0,>=1.16.0 in c:\\programdata\\anaconda3\\lib\\site-packages (from pymongo) (2.4.1)\n",
      "Note: you may need to restart the kernel to use updated packages.\n"
     ]
    }
   ],
   "source": [
    "pip install pymongo"
   ]
  },
  {
   "cell_type": "code",
   "execution_count": 13,
   "metadata": {},
   "outputs": [],
   "source": [
    "from pymongo import MongoClient\n",
    "from pymongo.errors import DuplicateKeyError"
   ]
  },
  {
   "cell_type": "code",
   "execution_count": 14,
   "metadata": {},
   "outputs": [],
   "source": [
    "import requests\n",
    "from pprint import pprint\n",
    "import pandas as pd \n",
    "from lxml import html"
   ]
  },
  {
   "cell_type": "raw",
   "metadata": {},
   "source": [
    "Напишем функцию, которая будет добавлять новости в базу Монго. Будем добавлять новость только если ее нет в базе, если only_new=True. Проверяем по ссылке на новость. Если only_new = False, то добавляем в любом случае"
   ]
  },
  {
   "cell_type": "code",
   "execution_count": 36,
   "metadata": {},
   "outputs": [],
   "source": [
    "def add_to_db(doc, only_new):\n",
    "    \n",
    "    exists = news.find_one({'link':doc['link']})\n",
    "    if only_new == True:\n",
    "        if not exists:\n",
    "            try:\n",
    "                news.insert_one(doc)\n",
    "            except DuplicateKeyError:\n",
    "                pass\n",
    "    else:\n",
    "        try:\n",
    "            news.insert_one(doc)\n",
    "        except DuplicateKeyError:\n",
    "            pass"
   ]
  },
  {
   "cell_type": "raw",
   "metadata": {},
   "source": [
    "Создадим базу, куда будем складывать наши новости"
   ]
  },
  {
   "cell_type": "code",
   "execution_count": 16,
   "metadata": {},
   "outputs": [],
   "source": [
    "client = MongoClient('localhost', 27017)"
   ]
  },
  {
   "cell_type": "code",
   "execution_count": 17,
   "metadata": {},
   "outputs": [],
   "source": [
    "db = client['lentanews']"
   ]
  },
  {
   "cell_type": "code",
   "execution_count": 18,
   "metadata": {},
   "outputs": [],
   "source": [
    "news= db.news # item collection"
   ]
  },
  {
   "cell_type": "code",
   "execution_count": null,
   "metadata": {},
   "outputs": [],
   "source": [
    "#Получаем данные со страницы"
   ]
  },
  {
   "cell_type": "code",
   "execution_count": 19,
   "metadata": {},
   "outputs": [],
   "source": [
    "headers = {'User-Agent': 'Mozilla/5.0 (Windows NT 10.0; Win64; x64) AppleWebKit/537.36 (KHTML, like Gecko) Chrome/114.0.0.0 Safari/537.36'}"
   ]
  },
  {
   "cell_type": "code",
   "execution_count": 20,
   "metadata": {},
   "outputs": [],
   "source": [
    "url = 'https://lenta.ru'"
   ]
  },
  {
   "cell_type": "code",
   "execution_count": 21,
   "metadata": {},
   "outputs": [],
   "source": [
    "session = requests.Session()"
   ]
  },
  {
   "cell_type": "code",
   "execution_count": 22,
   "metadata": {},
   "outputs": [],
   "source": [
    "response = session.get(url,headers = headers)"
   ]
  },
  {
   "cell_type": "code",
   "execution_count": 23,
   "metadata": {},
   "outputs": [
    {
     "data": {
      "text/plain": [
       "<Response [200]>"
      ]
     },
     "execution_count": 23,
     "metadata": {},
     "output_type": "execute_result"
    }
   ],
   "source": [
    "response"
   ]
  },
  {
   "cell_type": "code",
   "execution_count": 24,
   "metadata": {},
   "outputs": [],
   "source": [
    "dom = html.fromstring(response.text)"
   ]
  },
  {
   "cell_type": "markdown",
   "metadata": {},
   "source": [
    "В данном случае забирала главные новости"
   ]
  },
  {
   "cell_type": "code",
   "execution_count": 27,
   "metadata": {},
   "outputs": [],
   "source": [
    "items = dom.xpath(\"//div[contains(@class,'last24')]//a[contains(@class,'card-mini')]\")"
   ]
  },
  {
   "cell_type": "code",
   "execution_count": 29,
   "metadata": {},
   "outputs": [
    {
     "name": "stdout",
     "output_type": "stream",
     "text": [
      "Введите Y, если в базу нужно добавлять только новые новости, любое другое значение если добавлять все: y\n"
     ]
    }
   ],
   "source": [
    "r = input('Введите Y, если в базу нужно добавлять только новые новости, любое другое значение если добавлять все: ')\n",
    "r=r.strip()\n",
    "r=r.lower()\n",
    "if r =='y'or'Y':\n",
    "    only_new=True\n",
    "else:\n",
    "    only_new=False"
   ]
  },
  {
   "cell_type": "code",
   "execution_count": 30,
   "metadata": {},
   "outputs": [
    {
     "data": {
      "text/plain": [
       "True"
      ]
     },
     "execution_count": 30,
     "metadata": {},
     "output_type": "execute_result"
    }
   ],
   "source": [
    "only_new"
   ]
  },
  {
   "cell_type": "code",
   "execution_count": 43,
   "metadata": {},
   "outputs": [],
   "source": [
    "for item in items:\n",
    "    itnews={}\n",
    "    name = item.xpath(\".//h3[contains(@class,'card-mini__title')]/text()\")\n",
    "    link =item.xpath(\"./@href\")\n",
    "    dat = str(link)\n",
    "    dat = dat[8:18:1]\n",
    " \n",
    "    \n",
    "    link=url+''.join(link)\n",
    "    itnews['resource']=url #источник\n",
    "    itnews['name']=name\n",
    "    itnews['link']=link\n",
    "    itnews['date']=dat\n",
    "    \n",
    "    add_to_db(itnews, only_new) #вызов функции для добавления значений в базу"
   ]
  },
  {
   "cell_type": "raw",
   "metadata": {},
   "source": [
    "Осталось проверить записали ли мы данные в нашу базу Mongodb       "
   ]
  },
  {
   "cell_type": "code",
   "execution_count": 42,
   "metadata": {},
   "outputs": [
    {
     "name": "stdout",
     "output_type": "stream",
     "text": [
      "{'_id': ObjectId('64c987613e9ac2aa71c61708'),\n",
      " 'date': '2023/08/01',\n",
      " 'link': 'https://lenta.ru/news/2023/08/01/fraza/',\n",
      " 'name': ['На Западе заявили об указавшем Зеленскому его место одной фразой '\n",
      "          'Байдене'],\n",
      " 'resource': 'https://lenta.ru'}\n",
      "{'_id': ObjectId('64c987623e9ac2aa71c61709'),\n",
      " 'date': '2023/08/01',\n",
      " 'link': 'https://lenta.ru/news/2023/08/01/niger_uranium/',\n",
      " 'name': ['Захватившая власть в Нигере хунта запретила поставки урана во '\n",
      "          'Францию. Как это отразится на ЕС и санкциях против России?'],\n",
      " 'resource': 'https://lenta.ru'}\n",
      "{'_id': ObjectId('64c987623e9ac2aa71c6170a'),\n",
      " 'date': '2023/08/01',\n",
      " 'link': 'https://lenta.ru/news/2023/08/01/control/',\n",
      " 'name': ['В ДНР сообщили о контроле российских сил над Клещеевкой'],\n",
      " 'resource': 'https://lenta.ru'}\n",
      "{'_id': ObjectId('64c987623e9ac2aa71c6170b'),\n",
      " 'date': '2023/08/01',\n",
      " 'link': 'https://lenta.ru/news/2023/08/01/bespilot/',\n",
      " 'name': ['Украинские беспилотники вновь попытались атаковать Москву. Что '\n",
      "          'рассказали власти о последствиях ночного инцидента?'],\n",
      " 'resource': 'https://lenta.ru'}\n",
      "{'_id': ObjectId('64c987623e9ac2aa71c6170c'),\n",
      " 'date': '2023/07/31',\n",
      " 'link': 'https://lenta.ru/news/2023/07/31/changesaugust/',\n",
      " 'name': ['Рост пенсий, повышение цен на автомобили и цифровой рубль: что '\n",
      "          'изменится в России с 1 августа?'],\n",
      " 'resource': 'https://lenta.ru'}\n",
      "{'_id': ObjectId('64c987623e9ac2aa71c6170d'),\n",
      " 'date': '2023/07/31',\n",
      " 'link': 'https://lenta.ru/news/2023/07/31/plen/',\n",
      " 'name': ['История о 14 годах сексуального рабства потрясла россиян. Что на '\n",
      "          'самом деле произошло с сиротой из Челябинска?'],\n",
      " 'resource': 'https://lenta.ru'}\n",
      "{'_id': ObjectId('64c987623e9ac2aa71c6170e'),\n",
      " 'date': '2023/07/31',\n",
      " 'link': 'https://lenta.ru/news/2023/07/31/artproblems/',\n",
      " 'name': ['В США заявили об уничтожении Россией артиллерии ВСУ'],\n",
      " 'resource': 'https://lenta.ru'}\n"
     ]
    }
   ],
   "source": [
    "for item in news.find({'resource':url}):\n",
    "    pprint(item)"
   ]
  },
  {
   "cell_type": "code",
   "execution_count": null,
   "metadata": {},
   "outputs": [],
   "source": []
  }
 ],
 "metadata": {
  "kernelspec": {
   "display_name": "Python 3",
   "language": "python",
   "name": "python3"
  },
  "language_info": {
   "codemirror_mode": {
    "name": "ipython",
    "version": 3
   },
   "file_extension": ".py",
   "mimetype": "text/x-python",
   "name": "python",
   "nbconvert_exporter": "python",
   "pygments_lexer": "ipython3",
   "version": "3.8.5"
  }
 },
 "nbformat": 4,
 "nbformat_minor": 4
}
